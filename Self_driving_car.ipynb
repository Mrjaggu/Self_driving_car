{
 "cells": [
  {
   "cell_type": "markdown",
   "metadata": {},
   "source": [
    "<h2>Importing prequiste</h2>"
   ]
  },
  {
   "cell_type": "code",
   "execution_count": 1,
   "metadata": {
    "colab": {
     "autoexec": {
      "startup": false,
      "wait_interval": 0
     }
    },
    "colab_type": "code",
    "id": "vgcc6iQobKHi"
   },
   "outputs": [],
   "source": [
    "from __future__ import division\n",
    "\n",
    "import warnings\n",
    "warnings.filterwarnings(\"ignore\", category=DeprecationWarning)\n",
    "\n",
    "import os\n",
    "import random\n",
    "import cv2\n",
    "import math\n",
    "import numpy as np\n",
    "from scipy import pi\n",
    "import scipy\n",
    "import scipy.misc\n",
    "\n",
    "from subprocess import call\n",
    "from datetime import datetime\n",
    "from itertools import islice\n",
    "import matplotlib.pyplot as plt \n",
    "import tensorflow as tf          "
   ]
  },
  {
   "cell_type": "markdown",
   "metadata": {},
   "source": [
    "<h2> EDA</h2>"
   ]
  },
  {
   "cell_type": "code",
   "execution_count": 2,
   "metadata": {},
   "outputs": [],
   "source": [
    "img_data = [] #specifing for image data\n",
    "angle_data = [] #specifing for angle steering wheel data"
   ]
  },
  {
   "cell_type": "code",
   "execution_count": 3,
   "metadata": {},
   "outputs": [],
   "source": [
    "#defining function to load our datas from data.txt\n",
    "def load_dataset():\n",
    "    #reading data from data.txt\n",
    "    with open(\"driving_dataset/data.txt\") as file:\n",
    "        for lines in file:\n",
    "            img_data.append('driving_dataset/' + lines.split()[0])\n",
    "            # the paper by Nvidia uses the inverse of the turning radius,\n",
    "            # but steering wheel angle is proportional to the inverse of turning radius\n",
    "            # so the steering wheel angle in radians is used as the output\n",
    "            angle_data.append(float(lines.split()[1])*scipy.pi/180)            "
   ]
  },
  {
   "cell_type": "code",
   "execution_count": 4,
   "metadata": {},
   "outputs": [],
   "source": [
    "load_dataset()\n",
    "\n",
    "#splitting datas into train and test 70-30 \n",
    "train_images = img_data[:int(len(img_data)*0.7)]\n",
    "train_angle = angle_data[:int(len(angle_data)*0.7)]\n",
    "\n",
    "test_images = img_data[-int(len(img_data)*0.3):]\n",
    "test_angle = angle_data[-int(len(angle_data)*0.3):]"
   ]
  },
  {
   "cell_type": "code",
   "execution_count": 5,
   "metadata": {},
   "outputs": [
    {
     "name": "stdout",
     "output_type": "stream",
     "text": [
      "('Total number of images: ', 45406)\n",
      "('Total number of images for training: ', 31784)\n",
      "('Total number of images for testing: ', 13621)\n"
     ]
    }
   ],
   "source": [
    "num_of_images = len(img_data)\n",
    "print(\"Total number of images: \",num_of_images)\n",
    "\n",
    "num_of_train_images = len(train_images)\n",
    "print(\"Total number of images for training: \",num_of_train_images)\n",
    "\n",
    "num_of_test_images = len(test_images)\n",
    "print(\"Total number of images for testing: \",num_of_test_images)"
   ]
  },
  {
   "cell_type": "markdown",
   "metadata": {},
   "source": [
    "<h2>Histogram</h2>"
   ]
  },
  {
   "cell_type": "code",
   "execution_count": 6,
   "metadata": {},
   "outputs": [
    {
     "data": {
      "image/png": "[encoded data removed]",
      "text/plain": [
       "<Figure size 720x576 with 1 Axes>"
      ]
     },
     "metadata": {
      "needs_background": "light"
     },
     "output_type": "display_data"
    }
   ],
   "source": [
    "import numpy;\n",
    "import warnings\n",
    "warnings.filterwarnings(\"ignore\")\n",
    "\n",
    "# PDF of train and test 'y' values. \n",
    "import matplotlib.pyplot as plt \n",
    "plt.figure(figsize=(10,8))\n",
    "plt.hist(train_angle, bins=50, normed=1, color='green', histtype ='step',label='Train angle');\n",
    "plt.hist(test_angle, bins=50, normed=1, color='red', histtype ='step',label='Test angle');\n",
    "plt.legend()\n",
    "plt.show()"
   ]
  },
  {
   "cell_type": "markdown",
   "metadata": {},
   "source": [
    "<h2> Baseline Model </h2>"
   ]
  },
  {
   "cell_type": "code",
   "execution_count": 7,
   "metadata": {},
   "outputs": [
    {
     "name": "stdout",
     "output_type": "stream",
     "text": [
      "Test_MSE(MEAN):0.241559\n",
      "Test_MSE(ZERO):0.241108\n"
     ]
    }
   ],
   "source": [
    "#Model 0: Base line Model: y_test_pred = mean(y_train_i) \n",
    "train_mean_y = np.mean(train_angle)\n",
    "\n",
    "print('Test_MSE(MEAN):%f' % np.mean(np.square(test_angle-train_mean_y)) )\n",
    "\n",
    "print('Test_MSE(ZERO):%f' % np.mean(np.square(np.array(test_angle)-0)) )\n"
   ]
  },
  {
   "cell_type": "markdown",
   "metadata": {
    "collapsed": true
   },
   "source": [
    "As we can we are getting MSE around 0.223 for train and test split 70-30 i.e which is more then 0.19 that we have got for 80-20"
   ]
  },
  {
   "cell_type": "markdown",
   "metadata": {},
   "source": [
    "<h2> Intializing weight , bias and convolution layer </h2>"
   ]
  },
  {
   "cell_type": "code",
   "execution_count": 8,
   "metadata": {},
   "outputs": [],
   "source": [
    "#defining function for weight\n",
    "def weight_variable(shape):\n",
    "    initial = tf.truncated_normal(shape, stddev=0.1)\n",
    "    #The generated values follow a normal distribution with specified mean and standard deviation, \n",
    "    #except that values whose magnitude is more than 2 standard deviations from the mean are dropped and re-picked\n",
    "    return tf.Variable(initial)\n",
    "\n",
    "#defining function for bias\n",
    "def bias_variable(shape):\n",
    "    initial = tf.constant(0.1, shape=shape)\n",
    "    return tf.Variable(initial)\n",
    "\n",
    "#defining function for convolution layer parameter\n",
    "def conv2d(x, W, stride):\n",
    "    return tf.nn.conv2d(x, W, strides=[1, stride, stride, 1], padding='VALID')"
   ]
  },
  {
   "cell_type": "code",
   "execution_count": 9,
   "metadata": {},
   "outputs": [],
   "source": [
    "true_image_ln = tf.placeholder(tf.float32, shape=[None, 66, 200, 3],name=\"true_image_ln\")\n",
    "true_angle_ln = tf.placeholder(tf.float32, shape=[None, 1],name=\"true_angle_ln\")\n",
    "\n",
    "x_image_ln = true_image_ln"
   ]
  },
  {
   "cell_type": "code",
   "execution_count": 10,
   "metadata": {},
   "outputs": [],
   "source": [
    "#first convolutional layer\n",
    "W_conv1_ln = weight_variable([5, 5, 3, 24])\n",
    "b_conv1_ln = bias_variable([24])\n",
    "\n",
    "h_conv1_ln = tf.nn.relu(conv2d(x_image_ln, W_conv1_ln, 2) + b_conv1_ln)\n",
    "\n",
    "#second convolutional layer\n",
    "W_conv2_ln = weight_variable([5, 5, 24, 36])\n",
    "b_conv2_ln = bias_variable([36])\n",
    "\n",
    "h_conv2_ln = tf.nn.relu(conv2d(h_conv1_ln, W_conv2_ln, 2) + b_conv2_ln)\n",
    "\n",
    "#third convolutional layer\n",
    "W_conv3_ln = weight_variable([5, 5, 36, 48])\n",
    "b_conv3_ln = bias_variable([48])\n",
    "\n",
    "h_conv3_ln = tf.nn.relu(conv2d(h_conv2_ln, W_conv3_ln, 2) + b_conv3_ln)\n",
    "\n",
    "#fourth convolutional layer\n",
    "W_conv4_ln = weight_variable([3, 3, 48, 64])\n",
    "b_conv4_ln = bias_variable([64])\n",
    "\n",
    "h_conv4_ln = tf.nn.relu(conv2d(h_conv3_ln, W_conv4_ln, 1) + b_conv4_ln)\n",
    "\n",
    "#fifth convolutional layer\n",
    "W_conv5_ln = weight_variable([3, 3, 64, 64])\n",
    "b_conv5_ln = bias_variable([64])\n",
    "\n",
    "h_conv5_ln = tf.nn.relu(conv2d(h_conv4_ln, W_conv5_ln, 1) + b_conv5_ln)\n",
    "\n",
    "#FCL 1\n",
    "W_fc1_ln = weight_variable([1152, 1164])\n",
    "b_fc1_ln = bias_variable([1164])\n",
    "\n",
    "h_conv5_flat_ln = tf.reshape(h_conv5_ln, [-1, 1152])\n",
    "h_fc1_ln = tf.nn.relu(tf.matmul(h_conv5_flat_ln, W_fc1_ln) + b_fc1_ln)\n",
    "\n",
    "keep_prob_ln = tf.placeholder(tf.float32,name=\"keep_prob_ln\")\n",
    "h_fc1_drop_ln = tf.nn.dropout(h_fc1_ln, keep_prob_ln)\n",
    "\n",
    "#FCL 2\n",
    "W_fc2_ln = weight_variable([1164, 100])\n",
    "b_fc2_ln = bias_variable([100])\n",
    "\n",
    "h_fc2_ln = tf.nn.relu(tf.matmul(h_fc1_drop_ln, W_fc2_ln) + b_fc2_ln)\n",
    "\n",
    "h_fc2_drop_ln = tf.nn.dropout(h_fc2_ln, keep_prob_ln)\n",
    "\n",
    "#FCL 3\n",
    "W_fc3_ln = weight_variable([100, 50])\n",
    "b_fc3_ln = bias_variable([50])\n",
    "\n",
    "h_fc3_ln = tf.nn.relu(tf.matmul(h_fc2_drop_ln, W_fc3_ln) + b_fc3_ln)\n",
    "\n",
    "h_fc3_drop_ln = tf.nn.dropout(h_fc3_ln, keep_prob_ln)\n",
    "\n",
    "#FCL 3\n",
    "W_fc4_ln = weight_variable([50, 10])\n",
    "b_fc4_ln = bias_variable([10])\n",
    "\n",
    "h_fc4_ln = tf.nn.relu(tf.matmul(h_fc3_drop_ln, W_fc4_ln) + b_fc4_ln)\n",
    "\n",
    "h_fc4_drop_ln = tf.nn.dropout(h_fc4_ln, keep_prob_ln)\n",
    "\n",
    "#Output\n",
    "W_fc5_ln = weight_variable([10, 1])\n",
    "b_fc5_ln = bias_variable([1])\n",
    "\n",
    "# linear activation function\n",
    "predicted_angle_ln = tf.identity((tf.matmul(h_fc4_drop_ln, W_fc5_ln) + b_fc5_ln))"
   ]
  },
  {
   "cell_type": "code",
   "execution_count": 11,
   "metadata": {},
   "outputs": [],
   "source": [
    "train_batch_pointer = 0\n",
    "test_batch_pointer = 0\n",
    "\n",
    "# Utility Functions\n",
    "def LoadTrainBatch(batch_size):\n",
    "    global train_batch_pointer\n",
    "    x_out = []\n",
    "    y_out = []\n",
    "    for i in range(0, batch_size):\n",
    "        x_out.append(scipy.misc.imresize(scipy.misc.imread(train_images[(train_batch_pointer + i) % num_of_train_images])[-150:], \n",
    "                                         [66, 200]) / 255.0)\n",
    "        y_out.append([train_angle[(train_batch_pointer + i) % num_of_train_images]])\n",
    "    train_batch_pointer += batch_size\n",
    "    return x_out, y_out\n",
    "\n",
    "def LoadTestBatch(batch_size): \n",
    "    global test_batch_pointer\n",
    "    x_out = []\n",
    "    y_out = []\n",
    "    for i in range(0, batch_size):\n",
    "        x_out.append(scipy.misc.imresize(scipy.misc.imread(test_images[(test_batch_pointer + i) % num_of_test_images])[-150:], \n",
    "                                         [66, 200]) / 255.0)\n",
    "        y_out.append([test_angle[(test_batch_pointer + i) % num_of_test_images]])\n",
    "    test_batch_pointer += batch_size\n",
    "    return x_out, y_out"
   ]
  },
  {
   "cell_type": "code",
   "execution_count": 14,
   "metadata": {},
   "outputs": [],
   "source": [
    "SAVEDIR = \"/home/ajay/Applied_course/self_driving_car/Autopilot-TensorFlow-master/save/\"\n",
    "sess = tf.InteractiveSession()"
   ]
  },
  {
   "cell_type": "code",
   "execution_count": 15,
   "metadata": {},
   "outputs": [
    {
     "name": "stdout",
     "output_type": "stream",
     "text": [
      "Epoch: 0, Step: 450, Loss: 0.440863\n",
      "Model saved in file: /home/ajay/Applied_course/self_driving_car/Autopilot-TensorFlow-master/save/model.ckpt\n",
      "()\n",
      "Epoch: 1, Step: 550, Loss: 0.108497\n",
      "Model saved in file: /home/ajay/Applied_course/self_driving_car/Autopilot-TensorFlow-master/save/model.ckpt\n",
      "()\n",
      "Epoch: 2, Step: 650, Loss: 0.0525254\n",
      "Model saved in file: /home/ajay/Applied_course/self_driving_car/Autopilot-TensorFlow-master/save/model.ckpt\n",
      "()\n",
      "Epoch: 3, Step: 750, Loss: 0.0241816\n",
      "Model saved in file: /home/ajay/Applied_course/self_driving_car/Autopilot-TensorFlow-master/save/model.ckpt\n",
      "()\n",
      "Epoch: 4, Step: 850, Loss: 0.0695357\n",
      "Model saved in file: /home/ajay/Applied_course/self_driving_car/Autopilot-TensorFlow-master/save/model.ckpt\n",
      "()\n",
      "Epoch: 5, Step: 950, Loss: 0.0288018\n",
      "Model saved in file: /home/ajay/Applied_course/self_driving_car/Autopilot-TensorFlow-master/save/model.ckpt\n",
      "()\n",
      "Epoch: 6, Step: 1050, Loss: 0.0115439\n",
      "Model saved in file: /home/ajay/Applied_course/self_driving_car/Autopilot-TensorFlow-master/save/model.ckpt\n",
      "()\n",
      "Epoch: 7, Step: 1150, Loss: 4.02123\n",
      "Model saved in file: /home/ajay/Applied_course/self_driving_car/Autopilot-TensorFlow-master/save/model.ckpt\n",
      "()\n",
      "Epoch: 8, Step: 1250, Loss: 0.287714\n",
      "Model saved in file: /home/ajay/Applied_course/self_driving_car/Autopilot-TensorFlow-master/save/model.ckpt\n",
      "()\n",
      "Epoch: 9, Step: 1350, Loss: 0.0400232\n",
      "Model saved in file: /home/ajay/Applied_course/self_driving_car/Autopilot-TensorFlow-master/save/model.ckpt\n",
      "()\n",
      "Epoch: 10, Step: 1450, Loss: 0.00147111\n",
      "Model saved in file: /home/ajay/Applied_course/self_driving_car/Autopilot-TensorFlow-master/save/model.ckpt\n",
      "()\n",
      "Epoch: 11, Step: 1550, Loss: 0.926532\n",
      "Model saved in file: /home/ajay/Applied_course/self_driving_car/Autopilot-TensorFlow-master/save/model.ckpt\n",
      "()\n",
      "Epoch: 12, Step: 1650, Loss: 0.00357259\n",
      "Model saved in file: /home/ajay/Applied_course/self_driving_car/Autopilot-TensorFlow-master/save/model.ckpt\n",
      "()\n",
      "Epoch: 13, Step: 1750, Loss: 0.0619213\n",
      "Model saved in file: /home/ajay/Applied_course/self_driving_car/Autopilot-TensorFlow-master/save/model.ckpt\n",
      "()\n",
      "Epoch: 14, Step: 1850, Loss: 0.520679\n",
      "Model saved in file: /home/ajay/Applied_course/self_driving_car/Autopilot-TensorFlow-master/save/model.ckpt\n",
      "()\n",
      "Epoch: 15, Step: 1950, Loss: 0.124303\n",
      "Model saved in file: /home/ajay/Applied_course/self_driving_car/Autopilot-TensorFlow-master/save/model.ckpt\n",
      "()\n",
      "Epoch: 16, Step: 2050, Loss: 0.0283689\n",
      "Model saved in file: /home/ajay/Applied_course/self_driving_car/Autopilot-TensorFlow-master/save/model.ckpt\n",
      "()\n",
      "Epoch: 17, Step: 2150, Loss: 0.0294688\n",
      "Model saved in file: /home/ajay/Applied_course/self_driving_car/Autopilot-TensorFlow-master/save/model.ckpt\n",
      "()\n",
      "Epoch: 18, Step: 2250, Loss: 0.219354\n",
      "Model saved in file: /home/ajay/Applied_course/self_driving_car/Autopilot-TensorFlow-master/save/model.ckpt\n",
      "()\n",
      "Epoch: 19, Step: 2350, Loss: 0.113417\n",
      "Model saved in file: /home/ajay/Applied_course/self_driving_car/Autopilot-TensorFlow-master/save/model.ckpt\n",
      "()\n",
      "Epoch: 20, Step: 2450, Loss: 0.026536\n",
      "Model saved in file: /home/ajay/Applied_course/self_driving_car/Autopilot-TensorFlow-master/save/model.ckpt\n",
      "()\n",
      "Epoch: 21, Step: 2550, Loss: 0.0117085\n",
      "Model saved in file: /home/ajay/Applied_course/self_driving_car/Autopilot-TensorFlow-master/save/model.ckpt\n",
      "()\n",
      "Epoch: 22, Step: 2650, Loss: 0.00776918\n",
      "Model saved in file: /home/ajay/Applied_course/self_driving_car/Autopilot-TensorFlow-master/save/model.ckpt\n",
      "()\n",
      "Epoch: 23, Step: 2750, Loss: 0.211507\n",
      "Model saved in file: /home/ajay/Applied_course/self_driving_car/Autopilot-TensorFlow-master/save/model.ckpt\n",
      "()\n",
      "Epoch: 24, Step: 2850, Loss: 0.0135412\n",
      "Model saved in file: /home/ajay/Applied_course/self_driving_car/Autopilot-TensorFlow-master/save/model.ckpt\n",
      "()\n",
      "Epoch: 25, Step: 2950, Loss: 0.0119389\n",
      "Model saved in file: /home/ajay/Applied_course/self_driving_car/Autopilot-TensorFlow-master/save/model.ckpt\n",
      "()\n",
      "Epoch: 26, Step: 3050, Loss: 0.273607\n",
      "Model saved in file: /home/ajay/Applied_course/self_driving_car/Autopilot-TensorFlow-master/save/model.ckpt\n",
      "()\n",
      "Epoch: 27, Step: 3150, Loss: 0.0159948\n",
      "Model saved in file: /home/ajay/Applied_course/self_driving_car/Autopilot-TensorFlow-master/save/model.ckpt\n",
      "()\n",
      "Epoch: 28, Step: 3250, Loss: 0.00526949\n",
      "Model saved in file: /home/ajay/Applied_course/self_driving_car/Autopilot-TensorFlow-master/save/model.ckpt\n",
      "()\n",
      "Epoch: 29, Step: 3350, Loss: 0.585739\n",
      "Model saved in file: /home/ajay/Applied_course/self_driving_car/Autopilot-TensorFlow-master/save/model.ckpt\n",
      "()\n",
      "Run the command line:\n",
      "--> tensorboard --logdir=./logs \n",
      "Then open http://0.0.0.0:6006/ into your web browser\n"
     ]
    }
   ],
   "source": [
    "start = datetime.now()\n",
    "L2NormConst = 0.001\n",
    "\n",
    "train_vars = tf.trainable_variables()\n",
    "\n",
    "loss = tf.reduce_mean(tf.square(tf.subtract(true_angle_ln, predicted_angle_ln))) + tf.add_n([tf.nn.l2_loss(v) for v in train_vars]) * L2NormConst\n",
    "train_step = tf.train.AdamOptimizer(1e-3).minimize(loss)\n",
    "\n",
    "sess.run(tf.global_variables_initializer())\n",
    "\n",
    "# create a summary to monitor cost tensor\n",
    "tf.summary.scalar(\"loss\", loss)\n",
    "\n",
    "# merge all summaries into a single op\n",
    "merged_summary_op =  tf.summary.merge_all()\n",
    "\n",
    "saver = tf.train.Saver()\n",
    "\n",
    "# op to write logs to Tensorboard\n",
    "logs_path = './logs'\n",
    "summary_writer = tf.summary.FileWriter(logs_path, graph=tf.get_default_graph())\n",
    "\n",
    "epochs = 30\n",
    "batch_size = 100\n",
    "\n",
    "# train over the dataset about 30 times\n",
    "previous_i = 0\n",
    "previous_loss = 0\n",
    "\n",
    "for epoch in range(epochs):\n",
    "    for i in range(int(num_of_images/batch_size)):        \n",
    "        xs, ys = LoadTrainBatch(batch_size)\n",
    "        train_step.run(feed_dict={true_image_ln: xs, true_angle_ln: ys, keep_prob_ln: 0.50})\n",
    "        if i % 10 == 0:            \n",
    "            xs, ys = LoadTestBatch(batch_size)\n",
    "            loss_value = loss.eval(feed_dict={true_image_ln:xs, true_angle_ln: ys, keep_prob_ln: 1.0})\n",
    "            previous_loss = loss_value\n",
    "            previous_i = i\n",
    "            # print(\"Epoch: %d, Step: %d, Loss: %g\" % (epoch, epoch * batch_size + i, loss_value))\n",
    "\n",
    "        # write logs at every iteration\n",
    "        summary = merged_summary_op.eval(feed_dict={true_image_ln:xs, true_angle_ln: ys, keep_prob_ln: 1.0})\n",
    "        summary_writer.add_summary(summary, epoch * num_of_images/batch_size + i)\n",
    "\n",
    "        if i % batch_size == 0:\n",
    "            if not os.path.exists(SAVEDIR):\n",
    "                os.makedirs(SAVEDIR)            \n",
    "            checkpoint_path = os.path.join(SAVEDIR, \"model.ckpt\")\n",
    "            filename = saver.save(sess, checkpoint_path)    \n",
    "    print(\"Epoch: %d, Step: %d, Loss: %g\" % (epoch, epoch * batch_size + previous_i, previous_loss)) \n",
    "    print(\"Model saved in file: %s\" % filename)\n",
    "    print()\n",
    "\n",
    "print(\"Run the command line:\\n\" \\\n",
    "          \"--> tensorboard --logdir=./logs \" \\\n",
    "          \"\\nThen open http://0.0.0.0:6006/ into your web browser\")\n",
    "\n",
    "print(\"\\nTime taken to train the model: \")\n",
    "print(datetime.now() - start)\n",
    "sess.close()"
   ]
  },
  {
   "cell_type": "markdown",
   "metadata": {},
   "source": [
    "<h2> Making prediction from model</h2>"
   ]
  },
  {
   "cell_type": "markdown",
   "metadata": {},
   "source": [
    "To run model for testing run test_output.py in command prompt"
   ]
  },
  {
   "cell_type": "code",
   "execution_count": null,
   "metadata": {},
   "outputs": [],
   "source": []
  }
 ],
 "metadata": {
  "accelerator": "GPU",
  "colab": {
   "collapsed_sections": [],
   "default_view": {},
   "name": "Self_driving_car.ipynb",
   "provenance": [],
   "version": "0.3.2",
   "views": {}
  },
  "kernelspec": {
   "display_name": "Python 3",
   "language": "python",
   "name": "python3"
  },
  "language_info": {
   "codemirror_mode": {
    "name": "ipython",
    "version": 2
   },
   "file_extension": ".py",
   "mimetype": "text/x-python",
   "name": "python",
   "nbconvert_exporter": "python",
   "pygments_lexer": "ipython2",
   "version": "2.7.15rc1"
  }
 },
 "nbformat": 4,
 "nbformat_minor": 1
}
